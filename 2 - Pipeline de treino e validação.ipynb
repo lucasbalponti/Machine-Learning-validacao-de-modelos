{
 "cells": [
  {
   "attachments": {},
   "cell_type": "markdown",
   "metadata": {},
   "source": [
    "<h1>Conceito</h1>\n",
    "\n",
    "<h2><i>Pipelines</i> e validação cruzada</h2>\n",
    "\n",
    "Para realizar a validação cruzada de maneira efetiva, é importante que todos os processos (normalizações, padronizações, treinamentos etc.) sejam repetidos em todas as etapas da validação, para que seja minimizado o efeito da aleatoriedade em todos esses processos.\n",
    "\n",
    "Através da biblioteca *SKLearn* é possível criar uma *pipeline* de processos - ou seja, uma sequência de processos que serão realizados em uma base de dados. A criação dessa *pipeline* instancia um objeto da classe *Pipeline*, que possue os métodos *fit*, *train*, *predict* etc, semelhante aos objetos das classes relacionadas aos modelos de aprendizado de máquina.\n",
    "\n",
    "Sendo assim, é possível utilizar o objeto *Pipeline*  na validação cruzada, para que todos os processos sejam repetidos em todas as etapas da validação."
   ]
  },
  {
   "attachments": {},
   "cell_type": "markdown",
   "metadata": {},
   "source": [
    "<h1>Aplicação</h1>"
   ]
  },
  {
   "cell_type": "code",
   "execution_count": 1,
   "metadata": {},
   "outputs": [],
   "source": [
    "import pandas as pd\n",
    "\n",
    "from sklearn.pipeline import Pipeline\n",
    "from sklearn.preprocessing import StandardScaler\n",
    "from sklearn.svm import SVC\n",
    "from sklearn.model_selection import StratifiedKFold\n",
    "from sklearn.model_selection import cross_validate"
   ]
  },
  {
   "cell_type": "code",
   "execution_count": 2,
   "metadata": {},
   "outputs": [],
   "source": [
    "# Lendo a base de dados a ser utilizada\n",
    "dados = pd.read_csv(r'Dados\\Base.csv')"
   ]
  },
  {
   "cell_type": "code",
   "execution_count": 3,
   "metadata": {},
   "outputs": [],
   "source": [
    "# Dividindo inputs e outputs\n",
    "x = dados[[\"preco\", \"idade_do_modelo\", \"km_por_ano\"]].values\n",
    "y = dados[\"vendido\"].values.ravel()"
   ]
  },
  {
   "cell_type": "code",
   "execution_count": 4,
   "metadata": {},
   "outputs": [],
   "source": [
    "# Criando a pipeline que irá realizar a normalização dos dados e então o treinamento de uma máquina de vetor de suporte para classificação:\n",
    "pipeline = Pipeline([('transformacao', StandardScaler()),\n",
    "                     ('estimador', SVC())])\n",
    "\n",
    "# Criando o modelo de validação cruzada:\n",
    "cv = StratifiedKFold(n_splits = 10)\n",
    "result = cross_validate(pipeline, x, y, cv = cv)"
   ]
  },
  {
   "cell_type": "code",
   "execution_count": 5,
   "metadata": {},
   "outputs": [
    {
     "name": "stdout",
     "output_type": "stream",
     "text": [
      "A acurácia do modelo para um nível de confiança de 95% está entre 75.57% e 77.81%\n"
     ]
    }
   ],
   "source": [
    "media = result['test_score'].mean()*100\n",
    "desvio_padrao = result['test_score'].std()*100\n",
    "\n",
    "print(f'A acurácia do modelo para um nível de confiança de 95% está entre {media - desvio_padrao:.2f}% e {media + desvio_padrao:.2f}%')"
   ]
  }
 ],
 "metadata": {
  "kernelspec": {
   "display_name": "Python 3",
   "language": "python",
   "name": "python3"
  },
  "language_info": {
   "codemirror_mode": {
    "name": "ipython",
    "version": 3
   },
   "file_extension": ".py",
   "mimetype": "text/x-python",
   "name": "python",
   "nbconvert_exporter": "python",
   "pygments_lexer": "ipython3",
   "version": "3.11.0"
  },
  "orig_nbformat": 4
 },
 "nbformat": 4,
 "nbformat_minor": 2
}
